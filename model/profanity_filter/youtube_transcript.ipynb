{
 "cells": [
  {
   "cell_type": "code",
   "execution_count": 1,
   "id": "0f11ce2f-594b-40d8-a7c6-5bfbbfb01de5",
   "metadata": {},
   "outputs": [
    {
     "name": "stdout",
     "output_type": "stream",
     "text": [
      "Requirement already satisfied: youtube_transcript_api in c:\\users\\tanmay\\anaconda3\\lib\\site-packages (0.6.2)\n",
      "Requirement already satisfied: requests in c:\\users\\tanmay\\anaconda3\\lib\\site-packages (from youtube_transcript_api) (2.31.0)\n",
      "Requirement already satisfied: charset-normalizer<4,>=2 in c:\\users\\tanmay\\anaconda3\\lib\\site-packages (from requests->youtube_transcript_api) (2.0.4)\n",
      "Requirement already satisfied: idna<4,>=2.5 in c:\\users\\tanmay\\anaconda3\\lib\\site-packages (from requests->youtube_transcript_api) (3.4)\n",
      "Requirement already satisfied: urllib3<3,>=1.21.1 in c:\\users\\tanmay\\anaconda3\\lib\\site-packages (from requests->youtube_transcript_api) (1.26.16)\n",
      "Requirement already satisfied: certifi>=2017.4.17 in c:\\users\\tanmay\\anaconda3\\lib\\site-packages (from requests->youtube_transcript_api) (2023.7.22)\n",
      "Note: you may need to restart the kernel to use updated packages.\n"
     ]
    }
   ],
   "source": [
    "pip install youtube_transcript_api"
   ]
  },
  {
   "cell_type": "code",
   "execution_count": 29,
   "id": "a4df5655-cf40-4f41-a85a-734687e38a90",
   "metadata": {
    "scrolled": false
   },
   "outputs": [
    {
     "name": "stdout",
     "output_type": "stream",
     "text": [
      "[{'text': '[Music]', 'start': 3.15, 'duration': 4.08}, {'text': 'when you want a cookie', 'start': 5.42, 'duration': 4.36}, {'text': 'hello my face', 'start': 7.23, 'duration': 6.949}, {'text': ' what', 'start': 9.78, 'duration': 4.399}, {'text': '[Music]', 'start': 38.79, 'duration': 3.09}, {'text': \"I don't give a what you did I don't\", 'start': 95.73, 'duration': 23.01}, {'text': 'care', 'start': 117.87, 'duration': 4.17}, {'text': 'three guys in the car no girls rave', 'start': 118.74, 'duration': 6.54}, {'text': \"music I'm not gonna judge but if you\", 'start': 122.04, 'duration': 5.46}, {'text': \"don't pull over and give yourselves up\", 'start': 125.28, 'duration': 6.69}, {'text': 'quietly I swear to Christ your head is', 'start': 127.5, 'duration': 7.41}, {'text': 'going up the drivers up his head is', 'start': 131.97, 'duration': 5.43}, {'text': 'gonna be ass you drew the short stick', 'start': 134.91, 'duration': 6.47}, {'text': 'because your head is going up my ass', 'start': 137.4, 'duration': 3.98}, {'text': '[Applause]', 'start': 143.89, 'duration': 3.14}, {'text': '[Music]', 'start': 155.75, 'duration': 3.21}, {'text': '[Music]', 'start': 163.36, 'duration': 7.58}, {'text': '[Applause]', 'start': 171.48, 'duration': 8.31}, {'text': '[Music]', 'start': 176.7, 'duration': 3.09}, {'text': '[Music]', 'start': 195.78, 'duration': 3.139}, {'text': '[Music]', 'start': 207.74, 'duration': 11.429}]\n"
     ]
    }
   ],
   "source": [
    "video_id = 'E-MOzwWySaQ'\n",
    "from youtube_transcript_api import YouTubeTranscriptApi\n",
    "\n",
    "transcript = YouTubeTranscriptApi.get_transcript(video_id)\n",
    "print(transcript)"
   ]
  },
  {
   "cell_type": "code",
   "execution_count": 30,
   "id": "51e07b6f-9fc2-4fa1-9750-068a9a6b9dd9",
   "metadata": {},
   "outputs": [
    {
     "name": "stdout",
     "output_type": "stream",
     "text": [
      "Profanity detected at the following timestamps:\n",
      "At 134.91 seconds: gonna be ass you drew the short stick\n",
      "At 137.4 seconds: because your head is going up my ass\n"
     ]
    }
   ],
   "source": [
    "from better_profanity import profanity\n",
    "\n",
    "def check_profanity(text):\n",
    "    return profanity.contains_profanity(text)\n",
    "\n",
    "profanity_timestamps = []\n",
    "\n",
    "for segment in transcript:\n",
    "    text = segment['text']\n",
    "    if check_profanity(text):\n",
    "        profanity_timestamps.append((segment['start'], text))\n",
    "\n",
    "print(\"Profanity detected at the following timestamps:\")\n",
    "for timestamp, text in profanity_timestamps:\n",
    "    print(f\"At {timestamp} seconds: {text}\")\n",
    "\n"
   ]
  },
  {
   "cell_type": "code",
   "execution_count": 31,
   "id": "8fceb083",
   "metadata": {},
   "outputs": [
    {
     "name": "stdout",
     "output_type": "stream",
     "text": [
      "Profanity detected at the following timestamps:\n",
      "134.91 seconds\n",
      "137.4 seconds\n"
     ]
    }
   ],
   "source": [
    "from better_profanity import profanity\n",
    "\n",
    "def check_profanity(text):\n",
    "    return profanity.contains_profanity(text)\n",
    "\n",
    "profanity_timestamps = []\n",
    "\n",
    "for segment in transcript:\n",
    "    text = segment['text']\n",
    "    if check_profanity(text):\n",
    "        profanity_timestamps.append((segment['start'], text))\n",
    "\n",
    "print(\"Profanity detected at the following timestamps:\")\n",
    "for timestamp, text in profanity_timestamps:\n",
    "    print(f\"{timestamp}\", \"seconds\")\n",
    "\n"
   ]
  },
  {
   "cell_type": "code",
   "execution_count": 7,
   "id": "84a58ae3",
   "metadata": {},
   "outputs": [
    {
     "name": "stdout",
     "output_type": "stream",
     "text": [
      "Collecting profanity-filter\n",
      "  Using cached profanity_filter-1.3.3-py3-none-any.whl (45 kB)\n",
      "Collecting cached-property<2.0,>=1.5 (from profanity-filter)\n",
      "  Using cached cached_property-1.5.2-py2.py3-none-any.whl (7.6 kB)\n",
      "Requirement already satisfied: more-itertools<9.0,>=8.0 in c:\\users\\tanmay\\anaconda3\\lib\\site-packages (from profanity-filter) (8.12.0)\n",
      "Collecting ordered-set<4.0,>=3.0 (from profanity-filter)\n",
      "  Using cached ordered-set-3.1.1.tar.gz (10 kB)\n",
      "  Preparing metadata (setup.py): started\n",
      "  Preparing metadata (setup.py): finished with status 'done'\n",
      "INFO: pip is looking at multiple versions of profanity-filter to determine which version is compatible with other requirements. This could take a while.\n",
      "Collecting profanity-filter\n",
      "  Using cached profanity_filter-1.3.2-py3-none-any.whl (46 kB)\n",
      "  Using cached profanity_filter-1.3.1-py3-none-any.whl (45 kB)\n",
      "  Using cached profanity_filter-1.3.0-py3-none-any.whl (45 kB)\n",
      "  Using cached profanity_filter-1.1.14-py3-none-any.whl (181 kB)\n",
      "Collecting more-itertools<8.0,>=7.0 (from profanity-filter)\n",
      "  Using cached more_itertools-7.2.0-py3-none-any.whl (57 kB)\n",
      "Collecting profanity-filter\n",
      "  Using cached profanity_filter-1.1.13-py3-none-any.whl (181 kB)\n",
      "  Using cached profanity_filter-1.1.12-py3-none-any.whl (179 kB)\n",
      "  Using cached profanity_filter-1.1.11-py3-none-any.whl (178 kB)\n",
      "INFO: pip is still looking at multiple versions of profanity-filter to determine which version is compatible with other requirements. This could take a while.\n",
      "  Using cached profanity_filter-1.1.10-py3-none-any.whl (178 kB)\n",
      "  Using cached profanity_filter-1.1.9-py3-none-any.whl (178 kB)\n",
      "  Using cached profanity_filter-1.1.8-py3-none-any.whl (178 kB)\n",
      "  Using cached profanity_filter-1.1.7-py3-none-any.whl (178 kB)\n",
      "  Using cached profanity_filter-1.1.6-py3-none-any.whl (177 kB)\n",
      "INFO: This is taking longer than usual. You might need to provide the dependency resolver with stricter constraints to reduce runtime. See https://pip.pypa.io/warnings/backtracking for guidance. If you want to abort this run, press Ctrl + C.\n",
      "  Using cached profanity_filter-1.1.5-py3-none-any.whl (177 kB)\n",
      "  Using cached profanity_filter-1.1.4-py3-none-any.whl (177 kB)\n",
      "  Using cached profanity_filter-1.1.3-py3-none-any.whl (177 kB)\n",
      "  Using cached profanity_filter-1.1.2-py3-none-any.whl (177 kB)\n",
      "  Using cached profanity_filter-1.1.1-py3-none-any.whl (177 kB)\n",
      "  Using cached profanity_filter-1.1.0-py3-none-any.whl (177 kB)\n",
      "  Using cached profanity_filter-1.0.16-py3-none-any.whl (171 kB)\n",
      "  Using cached profanity_filter-1.0.15-py3-none-any.whl (136 kB)\n",
      "  Using cached profanity_filter-1.0.14-py3-none-any.whl (135 kB)\n",
      "  Using cached profanity_filter-1.0.13-py3-none-any.whl (135 kB)\n",
      "  Using cached profanity_filter-1.0.12-py3-none-any.whl (135 kB)\n",
      "  Using cached profanity_filter-1.0.10-py3-none-any.whl (134 kB)\n",
      "  Using cached profanity_filter-1.0.9-py3-none-any.whl (134 kB)\n",
      "  Using cached profanity_filter-1.0.8-py3-none-any.whl (134 kB)\n",
      "  Using cached profanity_filter-1.0.7-py3-none-any.whl (134 kB)\n",
      "  Using cached profanity_filter-1.0.6-py3-none-any.whl (132 kB)\n",
      "  Using cached profanity_filter-1.0.5-py3-none-any.whl (130 kB)\n",
      "  Using cached profanity_filter-1.0.4-py3-none-any.whl (130 kB)\n",
      "  Using cached profanity_filter-1.0.3-py3-none-any.whl (130 kB)\n",
      "  Using cached profanity_filter-1.0.2-py3-none-any.whl (130 kB)\n",
      "\n",
      "The conflict is caused by:\n",
      "    profanity-filter 1.3.3 depends on ordered-set-stubs<0.2.0 and >=0.1.3\n",
      "    profanity-filter 1.3.2 depends on ordered-set-stubs<0.2.0 and >=0.1.3\n",
      "    profanity-filter 1.3.1 depends on ordered-set-stubs<0.2.0 and >=0.1.3\n",
      "    profanity-filter 1.3.0 depends on ordered-set-stubs<0.2.0 and >=0.1.3\n",
      "    profanity-filter 1.1.14 depends on ordered-set-stubs<0.2.0 and >=0.1.3\n",
      "    profanity-filter 1.1.13 depends on ordered-set-stubs<0.2.0 and >=0.1.3\n",
      "    profanity-filter 1.1.12 depends on ordered-set-stubs<0.2.0 and >=0.1.3\n",
      "    profanity-filter 1.1.11 depends on ordered-set-stubs<0.2.0 and >=0.1.3\n",
      "    profanity-filter 1.1.10 depends on ordered-set-stubs<0.2.0 and >=0.1.3\n",
      "    profanity-filter 1.1.9 depends on ordered-set-stubs<0.2.0 and >=0.1.3\n",
      "    profanity-filter 1.1.8 depends on ordered-set-stubs<0.2.0 and >=0.1.3\n",
      "    profanity-filter 1.1.7 depends on ordered-set-stubs<0.2.0 and >=0.1.3\n",
      "    profanity-filter 1.1.6 depends on ordered-set-stubs<0.2.0 and >=0.1.3\n",
      "    profanity-filter 1.1.5 depends on ordered-set-stubs<0.2.0 and >=0.1.3\n",
      "    profanity-filter 1.1.4 depends on ordered-set-stubs<0.2.0 and >=0.1.3\n",
      "    profanity-filter 1.1.3 depends on ordered-set-stubs<0.2.0 and >=0.1.3\n",
      "    profanity-filter 1.1.2 depends on ordered-set-stubs<0.2.0 and >=0.1.3\n",
      "    profanity-filter 1.1.1 depends on ordered-set-stubs<0.2.0 and >=0.1.3\n",
      "    profanity-filter 1.1.0 depends on ordered-set-stubs<0.2.0 and >=0.1.3\n",
      "    profanity-filter 1.0.16 depends on ordered-set-stubs<0.2.0 and >=0.1.3\n",
      "    profanity-filter 1.0.15 depends on ordered-set-stubs<0.2.0 and >=0.1.3\n",
      "    profanity-filter 1.0.14 depends on ordered-set-stubs<0.2.0 and >=0.1.3\n",
      "    profanity-filter 1.0.13 depends on ordered-set-stubs<0.2.0 and >=0.1.3\n",
      "    profanity-filter 1.0.12 depends on ordered-set-stubs<0.2.0 and >=0.1.3\n",
      "    profanity-filter 1.0.10 depends on ordered-set-stubs<0.2.0 and >=0.1.3\n",
      "    profanity-filter 1.0.9 depends on ordered-set-stubs<0.2.0 and >=0.1.3\n",
      "    profanity-filter 1.0.8 depends on ordered-set-stubs<0.2.0 and >=0.1.3\n",
      "    profanity-filter 1.0.7 depends on ordered-set-stubs<0.2.0 and >=0.1.3\n",
      "    profanity-filter 1.0.6 depends on ordered-set-stubs<0.2.0 and >=0.1.3\n",
      "    profanity-filter 1.0.5 depends on ordered-set-stubs<0.2.0 and >=0.1.3\n",
      "    profanity-filter 1.0.4 depends on ordered-set-stubs<0.2.0 and >=0.1.3\n",
      "    profanity-filter 1.0.3 depends on ordered-set-stubs<0.2.0 and >=0.1.3\n",
      "    profanity-filter 1.0.2 depends on ordered-set-stubs<0.2.0 and >=0.1.3\n",
      "\n",
      "To fix this you could try to:\n",
      "1. loosen the range of package versions you've specified\n",
      "2. remove package versions to allow pip attempt to solve the dependency conflict\n",
      "\n",
      "Note: you may need to restart the kernel to use updated packages.\n"
     ]
    },
    {
     "name": "stderr",
     "output_type": "stream",
     "text": [
      "ERROR: Cannot install profanity-filter==1.0.10, profanity-filter==1.0.12, profanity-filter==1.0.13, profanity-filter==1.0.14, profanity-filter==1.0.15, profanity-filter==1.0.16, profanity-filter==1.0.2, profanity-filter==1.0.3, profanity-filter==1.0.4, profanity-filter==1.0.5, profanity-filter==1.0.6, profanity-filter==1.0.7, profanity-filter==1.0.8, profanity-filter==1.0.9, profanity-filter==1.1.0, profanity-filter==1.1.1, profanity-filter==1.1.10, profanity-filter==1.1.11, profanity-filter==1.1.12, profanity-filter==1.1.13, profanity-filter==1.1.14, profanity-filter==1.1.2, profanity-filter==1.1.3, profanity-filter==1.1.4, profanity-filter==1.1.5, profanity-filter==1.1.6, profanity-filter==1.1.7, profanity-filter==1.1.8, profanity-filter==1.1.9, profanity-filter==1.3.0, profanity-filter==1.3.1, profanity-filter==1.3.2 and profanity-filter==1.3.3 because these package versions have conflicting dependencies.\n",
      "ERROR: ResolutionImpossible: for help visit https://pip.pypa.io/en/latest/topics/dependency-resolution/#dealing-with-dependency-conflicts\n"
     ]
    }
   ],
   "source": [
    "pip install profanity-filter"
   ]
  },
  {
   "cell_type": "code",
   "execution_count": 18,
   "id": "a0e95b1a",
   "metadata": {},
   "outputs": [
    {
     "name": "stdout",
     "output_type": "stream",
     "text": [
      "Collecting better_profanity\n",
      "  Downloading better_profanity-0.7.0-py3-none-any.whl (46 kB)\n",
      "     ---------------------------------------- 0.0/46.1 kB ? eta -:--:--\n",
      "     ---------------- --------------------- 20.5/46.1 kB 640.0 kB/s eta 0:00:01\n",
      "     -------------------------------------- 46.1/46.1 kB 459.8 kB/s eta 0:00:00\n",
      "Installing collected packages: better_profanity\n",
      "Successfully installed better_profanity-0.7.0\n",
      "Note: you may need to restart the kernel to use updated packages.\n"
     ]
    }
   ],
   "source": [
    "pip install better_profanity"
   ]
  },
  {
   "cell_type": "code",
   "execution_count": null,
   "id": "f2784689",
   "metadata": {},
   "outputs": [],
   "source": []
  }
 ],
 "metadata": {
  "kernelspec": {
   "display_name": "Python 3 (ipykernel)",
   "language": "python",
   "name": "python3"
  },
  "language_info": {
   "codemirror_mode": {
    "name": "ipython",
    "version": 3
   },
   "file_extension": ".py",
   "mimetype": "text/x-python",
   "name": "python",
   "nbconvert_exporter": "python",
   "pygments_lexer": "ipython3",
   "version": "3.11.5"
  }
 },
 "nbformat": 4,
 "nbformat_minor": 5
}
