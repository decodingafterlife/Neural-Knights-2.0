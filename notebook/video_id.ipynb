{
 "cells": [
  {
   "cell_type": "code",
   "execution_count": 1,
   "id": "f48b4f0c-b716-4767-b416-a9612d24accd",
   "metadata": {},
   "outputs": [
    {
     "name": "stdout",
     "output_type": "stream",
     "text": [
      "Video ID: dQw4w9WgXcQ\n"
     ]
    }
   ],
   "source": [
    "import re\n",
    "\n",
    "def get_video_id(youtube_url):\n",
    "    # Regular expression pattern to match YouTube video IDs\n",
    "    pattern = r\"(?<=v=)[a-zA-Z0-9_-]+(?=&|\\?|$)\"\n",
    "    match = re.search(pattern, youtube_url)\n",
    "    if match:\n",
    "        return match.group(0)\n",
    "    else:\n",
    "        return None\n",
    "\n",
    "# Example usage:\n",
    "youtube_link = \"https://www.youtube.com/watch?v=dQw4w9WgXcQ\"\n",
    "video_id = get_video_id(youtube_link)\n",
    "if video_id:\n",
    "    print(\"Video ID:\", video_id)\n",
    "else:\n",
    "    print(\"No video ID found.\")\n"
   ]
  },
  {
   "cell_type": "code",
   "execution_count": null,
   "id": "c5a4c802-43b3-4606-807f-e62d79c38c8e",
   "metadata": {},
   "outputs": [],
   "source": []
  }
 ],
 "metadata": {
  "kernelspec": {
   "display_name": "Python 3 (ipykernel)",
   "language": "python",
   "name": "python3"
  },
  "language_info": {
   "codemirror_mode": {
    "name": "ipython",
    "version": 3
   },
   "file_extension": ".py",
   "mimetype": "text/x-python",
   "name": "python",
   "nbconvert_exporter": "python",
   "pygments_lexer": "ipython3",
   "version": "3.12.0"
  }
 },
 "nbformat": 4,
 "nbformat_minor": 5
}
